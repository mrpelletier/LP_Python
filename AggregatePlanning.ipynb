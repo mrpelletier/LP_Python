{
 "cells": [
  {
   "cell_type": "markdown",
   "metadata": {},
   "source": [
    "## Aggregate Assignment"
   ]
  },
  {
   "cell_type": "markdown",
   "metadata": {},
   "source": [
    "Michael Pelletier"
   ]
  },
  {
   "cell_type": "code",
   "execution_count": 99,
   "metadata": {},
   "outputs": [],
   "source": [
    "from gurobipy import *\n",
    "\n",
    "m = Model(\"Agreggate\")\n",
    "\n",
    "RegCost = 190\n",
    "OTCost = 260\n",
    "InvCost = 10\n",
    "\n",
    "RegCap = 160\n",
    "OTCap = 50\n",
    "\n",
    "Demand = [105,170,230,180,150,250]"
   ]
  },
  {
   "cell_type": "markdown",
   "metadata": {},
   "source": [
    "## Setting our decision variables"
   ]
  },
  {
   "cell_type": "code",
   "execution_count": 100,
   "metadata": {},
   "outputs": [],
   "source": [
    "N = 6\n",
    "names = ['Reg1','Reg2','Reg3','Reg4','Reg5','Reg6']\n",
    "x = []\n",
    "for i in range(N):\n",
    "    x.append( m.addVar(vtype=GRB.CONTINUOUS, lb=0.0, name=names[i]))\n",
    "\n",
    "M = 6\n",
    "names1 = ['OT1','OT2','OT3','OT4','OT5','OT6']\n",
    "y = []\n",
    "for i in range(M):\n",
    "    y.append( m.addVar(vtype=GRB.CONTINUOUS, lb=0.0, name=names1[i]))\n",
    "    \n",
    "inv = []\n",
    "for i in range(N):\n",
    "    inv.append((x[i]+y[i])-Demand[i])\n",
    "    \n",
    "m.update()"
   ]
  },
  {
   "cell_type": "markdown",
   "metadata": {},
   "source": [
    "## Setting our constraints"
   ]
  },
  {
   "cell_type": "code",
   "execution_count": 101,
   "metadata": {},
   "outputs": [],
   "source": [
    "Demand = [105,170,230,180,150,250]\n",
    "\n",
    "for i in range(len(x)):\n",
    "    m.addConstr(i,GRB.LESS_EQUAL,160)\n",
    "\n",
    "for i in range(len(y)):\n",
    "    m.addConstr(i,GRB.LESS_EQUAL,50)\n",
    "\n",
    "for i in range(len(Demand)):\n",
    "    m.addConstr(x[i]+y[i]+inv[i],GRB.GREATER_EQUAL,Demand[i])\n",
    "m.update()"
   ]
  },
  {
   "cell_type": "markdown",
   "metadata": {},
   "source": [
    "## Setting our objective"
   ]
  },
  {
   "cell_type": "code",
   "execution_count": 106,
   "metadata": {},
   "outputs": [
    {
     "name": "stdout",
     "output_type": "stream",
     "text": [
      "Gurobi Optimizer version 9.1.2 build v9.1.2rc0 (win64)\n",
      "Thread count: 6 physical cores, 12 logical processors, using up to 12 threads\n",
      "Optimize a model with 18 rows, 12 columns and 12 nonzeros\n",
      "Coefficient statistics:\n",
      "  Matrix range     [2e+00, 2e+00]\n",
      "  Objective range  [2e+02, 3e+02]\n",
      "  Bounds range     [0e+00, 0e+00]\n",
      "  RHS range        [5e+01, 5e+02]\n",
      "Iteration    Objective       Primal Inf.    Dual Inf.      Time\n",
      "       0    1.9950000e+04   0.000000e+00   0.000000e+00      0s\n",
      "\n",
      "Solved in 0 iterations and 0.02 seconds\n",
      "Optimal objective  1.995000000e+04\n",
      "Gurobi Optimizer version 9.1.2 build v9.1.2rc0 (win64)\n",
      "Thread count: 6 physical cores, 12 logical processors, using up to 12 threads\n",
      "Optimize a model with 18 rows, 12 columns and 12 nonzeros\n",
      "Coefficient statistics:\n",
      "  Matrix range     [2e+00, 2e+00]\n",
      "  Objective range  [2e+02, 3e+02]\n",
      "  Bounds range     [0e+00, 0e+00]\n",
      "  RHS range        [5e+01, 5e+02]\n",
      "Iteration    Objective       Primal Inf.    Dual Inf.      Time\n",
      "       0    3.2300000e+04   0.000000e+00   0.000000e+00      0s\n",
      "\n",
      "Solved in 0 iterations and 0.02 seconds\n",
      "Optimal objective  3.230000000e+04\n",
      "Gurobi Optimizer version 9.1.2 build v9.1.2rc0 (win64)\n",
      "Thread count: 6 physical cores, 12 logical processors, using up to 12 threads\n",
      "Optimize a model with 18 rows, 12 columns and 12 nonzeros\n",
      "Coefficient statistics:\n",
      "  Matrix range     [2e+00, 2e+00]\n",
      "  Objective range  [2e+02, 3e+02]\n",
      "  Bounds range     [0e+00, 0e+00]\n",
      "  RHS range        [5e+01, 5e+02]\n",
      "Iteration    Objective       Primal Inf.    Dual Inf.      Time\n",
      "       0    4.3700000e+04   0.000000e+00   0.000000e+00      0s\n",
      "\n",
      "Solved in 0 iterations and 0.01 seconds\n",
      "Optimal objective  4.370000000e+04\n",
      "Gurobi Optimizer version 9.1.2 build v9.1.2rc0 (win64)\n",
      "Thread count: 6 physical cores, 12 logical processors, using up to 12 threads\n",
      "Optimize a model with 18 rows, 12 columns and 12 nonzeros\n",
      "Coefficient statistics:\n",
      "  Matrix range     [2e+00, 2e+00]\n",
      "  Objective range  [2e+02, 3e+02]\n",
      "  Bounds range     [0e+00, 0e+00]\n",
      "  RHS range        [5e+01, 5e+02]\n",
      "Iteration    Objective       Primal Inf.    Dual Inf.      Time\n",
      "       0    3.4200000e+04   0.000000e+00   0.000000e+00      0s\n",
      "\n",
      "Solved in 0 iterations and 0.00 seconds\n",
      "Optimal objective  3.420000000e+04\n",
      "Gurobi Optimizer version 9.1.2 build v9.1.2rc0 (win64)\n",
      "Thread count: 6 physical cores, 12 logical processors, using up to 12 threads\n",
      "Optimize a model with 18 rows, 12 columns and 12 nonzeros\n",
      "Coefficient statistics:\n",
      "  Matrix range     [2e+00, 2e+00]\n",
      "  Objective range  [2e+02, 3e+02]\n",
      "  Bounds range     [0e+00, 0e+00]\n",
      "  RHS range        [5e+01, 5e+02]\n",
      "Iteration    Objective       Primal Inf.    Dual Inf.      Time\n",
      "       0    2.8500000e+04   0.000000e+00   0.000000e+00      0s\n",
      "\n",
      "Solved in 0 iterations and 0.01 seconds\n",
      "Optimal objective  2.850000000e+04\n",
      "Gurobi Optimizer version 9.1.2 build v9.1.2rc0 (win64)\n",
      "Thread count: 6 physical cores, 12 logical processors, using up to 12 threads\n",
      "Optimize a model with 18 rows, 12 columns and 12 nonzeros\n",
      "Coefficient statistics:\n",
      "  Matrix range     [2e+00, 2e+00]\n",
      "  Objective range  [2e+02, 3e+02]\n",
      "  Bounds range     [0e+00, 0e+00]\n",
      "  RHS range        [5e+01, 5e+02]\n",
      "Iteration    Objective       Primal Inf.    Dual Inf.      Time\n",
      "       0    4.7500000e+04   0.000000e+00   0.000000e+00      0s\n",
      "\n",
      "Solved in 0 iterations and 0.01 seconds\n",
      "Optimal objective  4.750000000e+04\n"
     ]
    }
   ],
   "source": [
    "catch = []\n",
    "for i in range(len(Demand)):\n",
    "    m.setObjective(x[i]*RegCost+y[i]*OTCost+inv[i]*InvCost,GRB.MINIMIZE)\n",
    "    m.update()\n",
    "    m.optimize()\n",
    "    catch.append(m.objVal)\n"
   ]
  },
  {
   "cell_type": "code",
   "execution_count": 107,
   "metadata": {},
   "outputs": [
    {
     "data": {
      "text/plain": [
       "[19950.0, 32300.0, 43700.0, 34200.0, 28500.0, 47500.0]"
      ]
     },
     "execution_count": 107,
     "metadata": {},
     "output_type": "execute_result"
    }
   ],
   "source": [
    "catch"
   ]
  },
  {
   "cell_type": "code",
   "execution_count": 110,
   "metadata": {},
   "outputs": [
    {
     "name": "stdout",
     "output_type": "stream",
     "text": [
      "The total cost is: $206,150.0\n"
     ]
    }
   ],
   "source": [
    "print(\"The total cost is: ${:,}\".format(sum(catch)))"
   ]
  },
  {
   "cell_type": "code",
   "execution_count": null,
   "metadata": {},
   "outputs": [],
   "source": []
  }
 ],
 "metadata": {
  "kernelspec": {
   "display_name": "Python 3",
   "language": "python",
   "name": "python3"
  },
  "language_info": {
   "codemirror_mode": {
    "name": "ipython",
    "version": 3
   },
   "file_extension": ".py",
   "mimetype": "text/x-python",
   "name": "python",
   "nbconvert_exporter": "python",
   "pygments_lexer": "ipython3",
   "version": "3.8.3"
  }
 },
 "nbformat": 4,
 "nbformat_minor": 4
}
